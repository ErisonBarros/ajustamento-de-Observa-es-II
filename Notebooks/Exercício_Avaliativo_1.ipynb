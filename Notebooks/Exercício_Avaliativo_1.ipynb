{
  "nbformat": 4,
  "nbformat_minor": 0,
  "metadata": {
    "colab": {
      "provenance": [],
      "authorship_tag": "ABX9TyM4skktWsML8My7gzWF6TTQ",
      "include_colab_link": true
    },
    "kernelspec": {
      "name": "python3",
      "display_name": "Python 3"
    },
    "language_info": {
      "name": "python"
    }
  },
  "cells": [
    {
      "cell_type": "markdown",
      "metadata": {
        "id": "view-in-github",
        "colab_type": "text"
      },
      "source": [
        "<a href=\"https://colab.research.google.com/github/ErisonBarros/ajustamento-de-Observa-es-II/blob/erison.barros/Notebooks/Exerc%C3%ADcio_Avaliativo_1.ipynb\" target=\"_parent\"><img src=\"https://colab.research.google.com/assets/colab-badge.svg\" alt=\"Open In Colab\"/></a>"
      ]
    },
    {
      "cell_type": "markdown",
      "source": [
        "# Exercício Avaliativo 1"
      ],
      "metadata": {
        "id": "bzNwlpGkOwXh"
      }
    },
    {
      "cell_type": "markdown",
      "source": [
        "Ajustar a poligona em questão pelo Método Correlato da Poligonal em questão:"
      ],
      "metadata": {
        "id": "Ggo3GPJROEGI"
      }
    },
    {
      "cell_type": "markdown",
      "source": [
        "\n",
        "Fluxograma de Ajustamento\n",
        "---\n",
        "\n",
        "https://whimsical.com/fluxograma-de-ajustamento-5Tz6MNRCyRpm6Q7EAbfL8c@6HYTAunKLgTVnjdVazAVa8BwQVFKbs2gMMTcX6N7wvMNtBY"
      ],
      "metadata": {
        "id": "nigbNd7rS6IE"
      }
    },
    {
      "cell_type": "markdown",
      "source": [
        "\n",
        "\n",
        "> **Fonte: MORAES (1997, p14)**\n",
        "\n"
      ],
      "metadata": {
        "id": "wyEZjDPEE5JA"
      }
    },
    {
      "cell_type": "markdown",
      "source": [
        "As coordenadas fixas do ponto 1 = (p + 1) valem x = y = 10.000,000 m;\n",
        "\n",
        "O azimute fixo da linha 1-A é de 315°00'00\";\n",
        "\n",
        "E os desvios-padrão das distâncias $S_{ik}$ são dados por $\\sigma_s = (5 \\text{ mm} + 5 \\text{ ppm})$;\n",
        "\n",
        "E os desvios-padrão dos ângulos $a_i$ valem $\\sigma_a = 0,8\"$.\n"
      ],
      "metadata": {
        "id": "-McsUE_FEzMB"
      }
    },
    {
      "cell_type": "markdown",
      "source": [
        "<img src=\"https://i.ibb.co/v4J9dVK/Captura-de-tela-2024-07-23-104620.jpg\" alt=\"Captura-de-tela-2024-07-23-104620\" border=\"0\">"
      ],
      "metadata": {
        "id": "YjmyASkbE3yi"
      }
    },
    {
      "cell_type": "markdown",
      "source": [
        "### Tabela 1: Dados Observados e Calculados Provisoriamente\n",
        "\n",
        "| Ponto i | Ângulo αᵢ Observado | σ²ᵢ (°²) | Linha ik | Distância Sᵢₖ Observada (m) | σ²S (m²) | Azimute Aᵢₓₖ Provisório | Ponto i | Coordenadas Provisórias x (m) | y (m) |\n",
        "|---------|----------------------|----------|----------|-----------------------------|---------|--------------------------|---------|------------------------------|-------|\n",
        "| 1       | 90°00'01,0\"          | 0,64     | -        | -                           | -       | -                        | -       | -                            | -     |\n",
        "| 2       | 30°00'00,1\"          | 0,64     | 1-2      | 1.000,000                   | 0,0001  | 45°00'01,0\"              | 2       | 10.707,11021                 | 10.707,10335 |\n",
        "| 3       | 30°00'00,8\"          | 0,64     | 2-3      | 1.000,005                   | 0,0001  | 165°00'01,1\"             | 3       | 10.965,92540                 | 9.741,17132  |\n",
        "| 4       | 21°00'00,0\"          | 0,64     | 3-4      | 1.000,010                   | 0,0001  | 285°00'01,9\"             | 4       | 9.999,99230                  | 10.000,00185 |\n",
        "| -       | -                    | -        | 4-A      | -                           | -       | 315°00'01,9\"             | -       | -                            | -     |\n",
        "\n",
        "\n",
        "\n",
        "**Nota:** $e_a = +1,9\"$; $e_x = -0,00770$; $e_y = 0,00185$\n"
      ],
      "metadata": {
        "id": "E7aocQRiGEGr"
      }
    },
    {
      "cell_type": "code",
      "execution_count": null,
      "metadata": {
        "id": "KXfu8ZX3D-Re"
      },
      "outputs": [],
      "source": []
    },
    {
      "cell_type": "markdown",
      "source": [
        "## Passo 1: Estabelecimento das Equações de Observação"
      ],
      "metadata": {
        "id": "nd2D0G4PHCRt"
      }
    },
    {
      "cell_type": "markdown",
      "source": [
        "## Passo 1: Estabelecimento das Equações de Observação\n",
        "\n",
        "Cada observação (ângulo ou distância) na poligonal tem uma equação associada, onde introduzimos as incógnitas (correções) que pretendemos determinar. Para ângulos e distâncias, as equações são geralmente formuladas como:\n",
        "\n",
        "$$ L = L_0 + v $$\n",
        "\n",
        "Onde:\n",
        "- $ L $ é o valor observado corrigido,\n",
        "- $ L_0 $ é o valor observado inicial,\n",
        "- $ v $ é a correção a ser determinada.\n"
      ],
      "metadata": {
        "id": "aE8oOR2JHVtm"
      }
    },
    {
      "cell_type": "markdown",
      "source": [
        "Dados Observados\n",
        "De acordo com as tabelas e informações fornecidas:\n",
        "\n",
        "- Ângulos observados e suas precisões (desvios padrão).\n",
        "- Distâncias observadas entre os pontos e suas precisões.\n",
        "- Azimutes provisórios para cada segmento da poligonal."
      ],
      "metadata": {
        "id": "Y8uRj1T3V0XX"
      }
    },
    {
      "cell_type": "markdown",
      "source": [
        "## Derivação das Equações Normais para Ajuste de Poligonal Fechada\n",
        "\n",
        "### Dados Observados\n",
        "Incluem ângulos e distâncias observados, com suas respectivas precisões.\n",
        "\n",
        "\n",
        "### Passo 2: Construir a Matriz de Pesos $P$\n",
        "A matriz $P$ é diagonal, onde cada elemento é o inverso do quadrado do desvio padrão da observação correspondente:\n",
        "$$ P = \\text{diag} \\left( \\frac{1}{\\sigma_{\\theta}^2}, \\frac{1}{\\sigma_{\\theta}^2}, \\frac{1}{\\sigma_{\\theta}^2}, \\frac{1}{\\sigma_{\\theta}^2}, \\frac{1}{\\sigma_S^2}, \\frac{1}{\\sigma_S^2}, \\frac{1}{\\sigma_S^2} \\right) $$\n",
        "onde:\n",
        "- $ \\sigma_{\\theta} = 0.8\" $ (convertido para graus se necessário)\n",
        "- $ \\sigma_S = 5 \\, \\text{mm} + 5 \\, \\text{ppm de} \\, S_{ik} $\n",
        "\n",
        "### Passo 3: Construir a Matriz de Design $A$\n",
        "Inclui coeficientes para o fechamento angular e linear:\n",
        "\\[ A = \\begin{bmatrix}\n",
        "1 & 1 & 1 & 1 & 0 & 0 & 0 \\\\\n",
        "0 & 0 & 0 & 0 & \\cos(\\alpha_{12}) & \\cos(\\alpha_{23}) & \\cos(\\alpha_{31}) \\\\\n",
        "0 & 0 & 0 & 0 & \\sin(\\alpha_{12}) & \\sin(\\alpha_{23}) & \\sin(\\alpha_{31})\n",
        "\\end{bmatrix} \\\n",
        "\n",
        "### Passo 4: Formular as Equações Normais\n",
        "$$ A^T P A X = A^T P L $$\n",
        "- $ A^T P A $ representa as inter-relações ponderadas das correções.\n",
        "- $ A^T P L $ é o produto das matrizes transposta de $A$, de pesos $P$, e o vetor de observações $L$, formando o lado direito do sistema.\n",
        "\n",
        "#### Estrutura da Matriz A\n",
        "\n",
        "| Equações de Condição         | $v_1$ | $v_2$ | $v_3$ | $v_4$ | $v_{d12,x}$ | $v_{d23,x}$ | $v_{d34,x}$ | $v_{d41,x}$ | $v_{d12,y}$ | $v_{d23,y}$ | $v_{d34,y}$ | $v_{d41,y}$ |\n",
        "|------------------------------|-------|-------|-------|-------|-------------|-------------|-------------|-------------|-------------|-------------|-------------|-------------|\n",
        "| Fechamento Angular           | 1     | 1     | 1     | 1     | 0           | 0           | 0           | 0           | 0           | 0           | 0           | 0           |\n",
        "| Fechamento Linear Horizontal | 0     | 0     | 0     | 0     | $\\cos(\\alpha_{12})$ | $\\cos(\\alpha_{23})$ | $\\cos(\\alpha_{34})$ | $\\cos(\\alpha_{41})$ | 0           | 0           | 0           | 0           |\n",
        "| Fechamento Linear Vertical   | 0     | 0     | 0     | 0     | 0           | 0           | 0           | 0           | $\\sin(\\alpha_{12})$ | $\\sin(\\alpha_{23})$ | $\\sin(\\alpha_{34})$ | $\\sin(\\alpha_{41})$ |\n",
        "\n",
        "https://1drv.ms/x/s!AjO4oAHV5BZuqLtPo9f8fsm3RX0zgA?e=yL4IzC\n",
        "### Notas\n",
        "\n",
        "- **$v_1, v_2, v_3, v_4$**: Correções angulares aplicadas aos ângulos observados.\n",
        "- **$v_{dij,x}$**: Correções aplicadas à componente horizontal ($x$) das distâncias observadas entre os pontos $i$ e $j$.\n",
        "- **$v_{dij,y}$**: Correções aplicadas à componente vertical ($y$) das distâncias observadas entre os pontos $i$ e $j$.\n",
        "\n",
        "Este exemplo foi simplificado para demonstração. As entradas específicas da matriz dependem dos detalhes do levantamento e das observações feitas.\n",
        "\n",
        "### Passo 5: Solução do Sistema\n",
        "Este sistema é resolvido para encontrar $X$, as correções para as observações iniciais.\n",
        "\n",
        "\n"
      ],
      "metadata": {
        "id": "7YHorMQKWskP"
      }
    },
    {
      "cell_type": "markdown",
      "source": [
        "### Passo 1: Construir o Vetor de Observações $L$\n",
        "O vetor $L$ compreende os ângulos e distâncias observados:\n",
        "$$ L = [\\theta_1, \\theta_2, \\theta_3, \\theta_4, S_{12}, S_{23}, S_{31}]^T $$\n"
      ],
      "metadata": {
        "id": "jmcjxVBcW3Uv"
      }
    },
    {
      "cell_type": "code",
      "source": [],
      "metadata": {
        "id": "ATsBuPmOHmJn"
      },
      "execution_count": null,
      "outputs": []
    },
    {
      "cell_type": "markdown",
      "source": [
        "## Passo 2: Formulação das Equações de Condição"
      ],
      "metadata": {
        "id": "Zb3oXMNUH1JV"
      }
    },
    {
      "cell_type": "markdown",
      "source": [
        "\n",
        "\n",
        "> **\" Explicação\"**\n",
        "\n",
        "\n",
        "\n",
        "As equações de condição refletem as restrições geométricas ou de fechamento da poligonal. Estas restrições podem ser de diferentes tipos, dependendo da natureza da poligonal (aberta ou fechada). Para uma poligonal fechada, as restrições comuns incluem:\n",
        "\n",
        "- **Fechamento Angular:** A soma dos ângulos internos deve ser igual a um valor teórico específico, geralmente dado por $(n-2) \\times 180^\\circ$, onde $n$ é o número de vértices na poligonal fechada.\n",
        "  \n",
        " $ \\sum (\\theta_i + v_{\\theta_i}) = (n-2) \\times 180^\\circ $\n",
        "  \n",
        "  Onde \\(\\theta_i\\) representa os ângulos medidos e \\(v_{\\theta_i}\\) são as correções angulares a serem aplicadas.\n",
        "\n",
        "- **Fechamento Linear:** As projeções das distâncias medidas ao longo dos eixos horizontal e vertical devem fechar no ponto de partida.\n",
        "\n",
        " $$ \\sum (S_{ik} \\cos(\\alpha_{ik} + v_{\\alpha_{ik}})) = 0 $$\n",
        "  $$\\sum (S_{ik} \\sin(\\alpha_{ik} + v_{\\alpha_{ik}})) = 0 $$\n",
        "\n",
        "  Aqui, $S_{ik}$são as distâncias medidas, $\\alpha_{ik}$ são os azimutes medidos, e $v_{\\alpha_{ik}}$são as correções nos azimutes.\n",
        "\n",
        "Para poligonais abertas, as condições de fechamento não se aplicam, mas podem existir outras restrições específicas, como a orientação ou a posição relativa entre pontos específicos, que devem ser respeitadas. Estas são traduzidas em equações de condição apropriadas, baseadas nas necessidades específicas do levantamento.\n",
        "\n",
        "A formulação precisa das equações de condição dependerá dos dados disponíveis e do contexto específico do projeto de levantamento.\n"
      ],
      "metadata": {
        "id": "YrstSF95JRVq"
      }
    },
    {
      "cell_type": "code",
      "source": [],
      "metadata": {
        "id": "9WwcYJ1JH3wu"
      },
      "execution_count": null,
      "outputs": []
    },
    {
      "cell_type": "markdown",
      "source": [
        "## Passo 3: Derivação das Equações Normais"
      ],
      "metadata": {
        "id": "bThCtD1tIB3P"
      }
    },
    {
      "cell_type": "code",
      "source": [],
      "metadata": {
        "id": "CGxGsI2QILM3"
      },
      "execution_count": null,
      "outputs": []
    },
    {
      "cell_type": "markdown",
      "source": [
        "## Passo 4: Resolução do Sistema de Equações Normais"
      ],
      "metadata": {
        "id": "mSyoQsLRHnqP"
      }
    },
    {
      "cell_type": "code",
      "source": [],
      "metadata": {
        "id": "-egsmHv2IFY4"
      },
      "execution_count": null,
      "outputs": []
    },
    {
      "cell_type": "code",
      "source": [],
      "metadata": {
        "id": "V7UwYxUOIz1Q"
      },
      "execution_count": null,
      "outputs": []
    },
    {
      "cell_type": "markdown",
      "source": [
        "## Passo 5: Aplicação das Correções às Observações"
      ],
      "metadata": {
        "id": "xh8wGW1YHvl-"
      }
    },
    {
      "cell_type": "code",
      "source": [],
      "metadata": {
        "id": "l0K_6DOhIs2H"
      },
      "execution_count": null,
      "outputs": []
    },
    {
      "cell_type": "markdown",
      "source": [
        "## Passo 6: Análise de Resíduos e Validação"
      ],
      "metadata": {
        "id": "CybsCyneIvef"
      }
    },
    {
      "cell_type": "code",
      "source": [],
      "metadata": {
        "id": "tnwcIBhiI0uP"
      },
      "execution_count": null,
      "outputs": []
    }
  ]
}