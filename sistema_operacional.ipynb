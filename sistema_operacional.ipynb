{
  "nbformat": 4,
  "nbformat_minor": 0,
  "metadata": {
    "colab": {
      "provenance": [],
      "authorship_tag": "ABX9TyNtJjjA05+dYxpXDpadn5Ao",
      "include_colab_link": true
    },
    "kernelspec": {
      "name": "python3",
      "display_name": "Python 3"
    },
    "language_info": {
      "name": "python"
    }
  },
  "cells": [
    {
      "cell_type": "markdown",
      "metadata": {
        "id": "view-in-github",
        "colab_type": "text"
      },
      "source": [
        "<a href=\"https://colab.research.google.com/github/ErisonBarros/ajustamento-de-Observa-es-II/blob/erison.barros/sistema_operacional.ipynb\" target=\"_parent\"><img src=\"https://colab.research.google.com/assets/colab-badge.svg\" alt=\"Open In Colab\"/></a>"
      ]
    },
    {
      "cell_type": "code",
      "execution_count": null,
      "metadata": {
        "colab": {
          "base_uri": "https://localhost:8080/"
        },
        "id": "2CNyUCzE25oC",
        "outputId": "c35c10ab-2eba-46eb-b3ea-96706e7457d1"
      },
      "outputs": [
        {
          "output_type": "stream",
          "name": "stdout",
          "text": [
            "<built-in function getcwd>\n"
          ]
        }
      ],
      "source": [
        "import os\n",
        "caminho=os.getcwd\n",
        "print(caminho)"
      ]
    },
    {
      "cell_type": "code",
      "source": [
        "caminho='/content/sample_data/README.md'\n",
        "print(caminho)"
      ],
      "metadata": {
        "colab": {
          "base_uri": "https://localhost:8080/"
        },
        "id": "DYYAxB_L3Q8X",
        "outputId": "50b320e3-e0e2-4fca-b275-b9c5956beb90"
      },
      "execution_count": null,
      "outputs": [
        {
          "output_type": "stream",
          "name": "stdout",
          "text": [
            "/content/sample_data/README.md\n"
          ]
        }
      ]
    },
    {
      "cell_type": "code",
      "source": [
        "dir()"
      ],
      "metadata": {
        "id": "FpOCfDkM31B_"
      },
      "execution_count": null,
      "outputs": []
    },
    {
      "cell_type": "code",
      "source": [
        "# Criar um arquivo TXT\n",
        "# não precisa criar um arquivo se ele n~çao existir\n",
        "# pois o Python cria (no Diretório corrente)\n",
        "\n",
        "arquivo='Pontos.txt'\n",
        "caminho='/content/sample_data'\n",
        "camArq=caminho+arquivo\n",
        "\n",
        "arquivo=open(camArq,'w')# 'w' de escrita (write)\n",
        "\n",
        "coordenadas='100.55,200,70'\n",
        "\n",
        "arquivo.write(coordenadas)\n",
        "arquivo.close()"
      ],
      "metadata": {
        "id": "wXcMGRUJ389m"
      },
      "execution_count": null,
      "outputs": []
    }
  ]
}